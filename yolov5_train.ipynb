{
 "cells": [
  {
   "cell_type": "code",
   "execution_count": null,
   "id": "academic-rugby",
   "metadata": {},
   "outputs": [],
   "source": [
    "!git clone https://github.com/ultralytics/yolov5  # clone repo\n",
    "\n",
    "%pip install -qr yolov5/requirements.txt  # install dependencies"
   ]
  },
  {
   "cell_type": "code",
   "execution_count": 1,
   "id": "developing-hebrew",
   "metadata": {},
   "outputs": [
    {
     "name": "stdout",
     "output_type": "stream",
     "text": [
      "Setup complete. Using torch 1.8.1 _CudaDeviceProperties(name='GeForce RTX 2060', major=7, minor=5, total_memory=6144MB, multi_processor_count=30)\n"
     ]
    }
   ],
   "source": [
    "import torch\n",
    "from IPython.display import Image, clear_output  # to display images\n",
    "\n",
    "clear_output()\n",
    "print('Setup complete. Using torch %s %s' % (torch.__version__, torch.cuda.get_device_properties(0) if torch.cuda.is_available() else 'CPU'))"
   ]
  },
  {
   "cell_type": "code",
   "execution_count": null,
   "id": "novel-hands",
   "metadata": {},
   "outputs": [],
   "source": [
    "#train model specifying image size, batch size, # of epochs, location of data, model selection and starting weights\n",
    "\n",
    "!python train.py --img 2048 --batch 8 --epochs 20 --data \"C:\\MSc\\Deeplearning\\custom_coco.yaml\"  --cfg \"C:\\MSc\\Deeplearning\\yolov5\\models\\yolov5s.yaml\" --weights '' "
   ]
  },
  {
   "cell_type": "code",
   "execution_count": 11,
   "id": "manual-express",
   "metadata": {},
   "outputs": [
    {
     "name": "stdout",
     "output_type": "stream",
     "text": [
      "Namespace(agnostic_nms=False, augment=False, classes=None, conf_thres=0.3, device='', exist_ok=False, img_size=6400, iou_thres=0.45, name='exp', nosave=False, project='runs/detect', save_conf=False, save_txt=False, source='C:\\\\MSc\\\\Deeplearning\\\\File_000.jpeg', update=False, view_img=False, weights=['C:\\\\MSc\\\\Deeplearning\\\\results_2048_8_20\\\\weights_2048_8_20.pt'])\n",
      "\u001b[31m\u001b[1mrequirements:\u001b[0m requirements.txt not found, check failed.\n",
      "Fusing layers... \n",
      "image 1/1 C:\\MSc\\Deeplearning\\File_000.jpeg: 1792x6400 1 persoon, 11 kentekenplaats, Done. (0.318s)\n",
      "Results saved to runs\\detect\\exp9\n",
      "Done. (2.561s)\n"
     ]
    },
    {
     "name": "stderr",
     "output_type": "stream",
     "text": [
      "YOLOv5  v4.0-177-g51cc096 torch 1.8.1 CUDA:0 (GeForce RTX 2060, 6144.0MB)\n",
      "\n",
      "Model Summary: 224 layers, 7056607 parameters, 0 gradients, 16.3 GFLOPS\n"
     ]
    }
   ],
   "source": [
    "#run inference to check the results\n",
    "\n",
    "!python yolov5/detect.py --weights C:\\MSc\\Deeplearning\\results_2048_8_20\\weights_2048_8_20.pt --img 6400 --conf 0.7 --source \"C:\\MSc\\Deeplearning\\File_000.jpeg\""
   ]
  },
  {
   "cell_type": "code",
   "execution_count": null,
   "id": "short-recorder",
   "metadata": {},
   "outputs": [],
   "source": []
  }
 ],
 "metadata": {
  "kernelspec": {
   "display_name": "Python [conda env:pytorch] *",
   "language": "python",
   "name": "conda-env-pytorch-py"
  },
  "language_info": {
   "codemirror_mode": {
    "name": "ipython",
    "version": 3
   },
   "file_extension": ".py",
   "mimetype": "text/x-python",
   "name": "python",
   "nbconvert_exporter": "python",
   "pygments_lexer": "ipython3",
   "version": "3.8.8"
  }
 },
 "nbformat": 4,
 "nbformat_minor": 5
}
